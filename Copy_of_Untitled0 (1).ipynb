{
  "nbformat": 4,
  "nbformat_minor": 0,
  "metadata": {
    "colab": {
      "provenance": []
    },
    "kernelspec": {
      "name": "python3",
      "display_name": "Python 3"
    },
    "language_info": {
      "name": "python"
    }
  },
  "cells": [
    {
      "cell_type": "markdown",
      "source": [
        "python basics"
      ],
      "metadata": {
        "id": "5o2sVJZa3el1"
      }
    },
    {
      "cell_type": "markdown",
      "source": [
        "# python basics\n",
        "\n",
        "1. what is python and why is it popular ?\n",
        "- python is a hight level interpreted programing language it is popular because it is easy to learn, versatile, large community and ecosystem\n",
        "\n",
        "2. what is an interpreter in python?\n",
        "- in python an interpreter is a program that directly executes code line by line. unlike compiled language ( like c++ or java )where the entire code is translated into machine code before execution.\n",
        "\n",
        "3. what are pre-defined keywords in python?\n",
        "- in python pre-defined keywords is if,else,for,class,none,and,in,is,True etc\n",
        "\n",
        "4. can keywords be uses as verible names?\n",
        "-  no, keywords cannot used variable name.\n",
        "\n",
        "5. what is mutability in python?\n",
        "-  in python the mutability is, lists(list),dictionaries(dict),sets(set).\n",
        "6. why are lists mutable, but tuples are immutable?\n",
        "-  there is primary reason lists- lists are designed for collections of items that are expected to change over time.\n",
        "Tuples(tuple):Tuples are designed for collection of items that are meant to be fixed and unchanged after creation.\n",
        "7. what is the difference between \"==\"and \"is\" opertors in python?\n",
        "-  ==(equality operator):this opertors the compare the values of two objects.it returns (true)if the objects have the same value,and (false)otherwise.\n",
        "-  is(identity operator);this operator compares the identity of two objects.it returns True if the two variables point to the exact same object in memory and False otherwise.\n",
        "8. what are the logical operators in python?\n",
        "-  There are two three logical operators in python:and,or,not.\n",
        ".and:Returns True if both operands are true.otherwise it returns false.\n",
        ".or:Returns True if at least one of the operands is true.otherwise,it returns false.\n",
        ".not:Returns the opposite boolean value of the operand.if the operand is true.it returns false,and if the operands is false,it returns true.\n",
        "9. what is type casting in python?\n",
        "-  Type casting(also known as conversion )in python is the process of converting a value from one data type to another.this is often necessary when you need to perform operations that require specific data types or when you need to change how data is represented.\n",
        "int(),float(),tuple(),str(),list(),set(),dict().\n",
        "10. what is the difference between implicit and expilicit type casting?\n",
        "- Type casting can happen in two ways:implicitly and explicitly.\n",
        ".Implicit type casting (coercion):This happens automatically when python performs an operations involving different data types.Python tries to convert one data type to another to avoid data loss.this usually occurs when converting the small data type to a larger data type.(e.g;integer to float.\n",
        ".Explicit type casting:This is when the user manually converts an object from one data type to another using type casting function like int() float() string(),etc.\n",
        "11. What is the purpose of conditional statements in python?\n",
        "- f"
      ],
      "metadata": {
        "id": "zgE9R6Jo5bb1"
      }
    },
    {
      "cell_type": "code",
      "source": [
        "# write a python program to print \"hellow world!\"\n",
        "print(\"Hello, World!\")"
      ],
      "metadata": {
        "id": "h7Rf2O7zq_wr"
      },
      "execution_count": null,
      "outputs": []
    },
    {
      "cell_type": "code",
      "metadata": {
        "id": "962ea2cc"
      },
      "source": [
        "# write a python program that displays your name and age\n",
        "\n",
        "name = \"Your Name\"  # Replace with your name\n",
        "age = 30          # Replace with your age\n",
        "\n",
        "print(f\"My name is {name} and I am {age} years old.\")"
      ],
      "execution_count": null,
      "outputs": []
    },
    {
      "cell_type": "code",
      "metadata": {
        "id": "1c11eec1"
      },
      "source": [
        "# write code to print all the pre-defined keywords in pythone using the keyword library\n",
        "\n",
        "import keyword\n",
        "\n",
        "print(keyword.kwlist)"
      ],
      "execution_count": null,
      "outputs": []
    },
    {
      "cell_type": "code",
      "source": [],
      "metadata": {
        "id": "XjA-BjpN20Q-"
      },
      "execution_count": null,
      "outputs": []
    },
    {
      "cell_type": "code",
      "metadata": {
        "id": "d87ea7d9"
      },
      "source": [
        "# write a program that checks if a given word is a python keyword\n",
        "\n",
        "import keyword\n",
        "\n",
        "word_to_check = \"for\"\n",
        "\n",
        "if word_to_check in keyword.kwlist:\n",
        "  print(f\"'{word_to_check}' is a Python keyword.\")\n",
        "else:\n",
        "  print(f\"'{word_to_check}' is not a Python keyword.\")"
      ],
      "execution_count": null,
      "outputs": []
    },
    {
      "cell_type": "code",
      "source": [],
      "metadata": {
        "id": "T4dU1sgL3m4m"
      },
      "execution_count": null,
      "outputs": []
    },
    {
      "cell_type": "code",
      "metadata": {
        "id": "92b1e474"
      },
      "source": [
        "# create a list and tuple in python, and demonstrate how attempting to change an element works differently for each\n",
        "\n",
        "\n",
        "my_list = [1, 2, 3, 4, 5]\n",
        "\n",
        "print(\"Original list:\", my_list)\n",
        "my_list[0] = 10\n",
        "\n",
        "print(\"List after attempting to change an element:\", my_list)\n",
        "my_tuple = (1, 2, 3, 4, 5)\n",
        "print(\"\\nOriginal tuple:\", my_tuple)\n",
        "\n",
        "try:\n",
        "  my_tuple[0] = 10\n",
        "except TypeError as e:\n",
        "  print(\"Attempting to change an element in the tuple resulted in an error:\", e)"
      ],
      "execution_count": null,
      "outputs": []
    },
    {
      "cell_type": "code",
      "metadata": {
        "id": "459d071e"
      },
      "source": [
        "def demonstrate_mutability(mutable_arg, immutable_arg):\n",
        "  \"\"\"\n",
        "  Demonstrates the behavior of mutable and immutable arguments in a function.\n",
        "\n",
        "  Args:\n",
        "    mutable_arg: A mutable data type (e.g., list).\n",
        "    immutable_arg: An immutable data type (e.g., integer, string, tuple).\n",
        "  \"\"\"\n",
        "  print(\"Inside the function:\")\n",
        "  print(\"  Mutable argument before change:\", mutable_arg)\n",
        "  print(\"  Immutable argument before change:\", immutable_arg)\n",
        "\n",
        "  # Modify the mutable argument\n",
        "  if isinstance(mutable_arg, list):\n",
        "    mutable_arg.append(100)\n",
        "  elif isinstance(mutable_arg, dict):\n",
        "    mutable_arg['new_key'] = 'new_value'\n",
        "\n",
        "\n",
        "  # Attempt to modify the immutable argument (this will create a new object)\n",
        "  immutable_arg = immutable_arg + \" changed\" if isinstance(immutable_arg, str) else immutable_arg + 100\n",
        "\n",
        "\n",
        "  print(\"  Mutable argument after change:\", mutable_arg)\n",
        "  print(\"  Immutable argument after change:\", immutable_arg)\n",
        "  print(\"-\" * 20)\n",
        "\n",
        "# Example usage:\n",
        "my_list = [1, 2, 3]\n",
        "my_string = \"hello\"\n",
        "my_dict = {'a': 1, 'b': 2}\n",
        "my_int = 5\n",
        "\n",
        "print(\"Outside the function before call:\")\n",
        "print(\"  Original list:\", my_list)\n",
        "print(\"  Original string:\", my_string)\n",
        "print(\"  Original dict:\", my_dict)\n",
        "print(\"  Original int:\", my_int)\n",
        "print(\"-\" * 20)\n",
        "\n",
        "demonstrate_mutability(my_list, my_string)\n",
        "demonstrate_mutability(my_dict, my_int)\n",
        "\n",
        "print(\"\\nOutside the function after call:\")\n",
        "print(\"  List after function call:\", my_list)\n",
        "print(\"  String after function call:\", my_string)\n",
        "print(\"  Dict after function call:\", my_dict)\n",
        "print(\"  Int after function call:\", my_int)"
      ],
      "execution_count": null,
      "outputs": []
    }
  ]
}