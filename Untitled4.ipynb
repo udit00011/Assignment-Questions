{
  "nbformat": 4,
  "nbformat_minor": 0,
  "metadata": {
    "colab": {
      "provenance": []
    },
    "kernelspec": {
      "name": "python3",
      "display_name": "Python 3"
    },
    "language_info": {
      "name": "python"
    }
  },
  "cells": [
    {
      "cell_type": "markdown",
      "source": [
        " 1.  What is the difference between a function and a method in Python?\n",
        "\n",
        "-  The difference between a function and a method in Python lies in how they are called and where they are defined:\n",
        "\n",
        "Function: A function is a block of reusable code that performs a specific task. It is defined independently and can be called directly by its name. You can pass arguments to a function, and it may return a value.\n",
        "\n",
        "\n",
        "2.  Explain the concept of function arguments and parameters in Python.\n",
        "\n",
        "-  Certainly! Let's break down the concepts of function arguments and parameters in Python:\n",
        "\n",
        "Parameters: These are the names defined in the function definition within the parentheses. They are placeholders for the values that will be passed into the function when it is called. Think of them as variables that will receive input\n",
        "\n",
        "3. What are the different ways to define and call a function in Python?\n",
        "\n",
        "-  There are several ways to define and call functions in Python. Here are the most common ones:\n",
        "\n",
        "Defining Functions:\n",
        "\n",
        "Using def keyword (standard way): This is the most common way to define functions.\n",
        "def my_function(parameter1, parameter2):\n",
        "    # Function body\n",
        "    result = parameter1 + parameter2\n",
        "    return result\n",
        "Using lambda (anonymous functions): Lambda functions are small, anonymous functions defined with the lambda keyword. They can have any number of arguments but only one expression.\n",
        "my_lambda_function = lambda parameter1, parameter2: parameter1 + parameter2\n",
        "Calling Functions:\n",
        "\n",
        "Positional Arguments: Arguments are passed in the order they are defined in the function signature.\n",
        "result = my_function(10, 20) # 10 is assigned to parameter1, 20 to parameter2\n",
        "Keyword Arguments: Arguments are passed using the parameter names, allowing you to specify which argument corresponds to which parameter, regardless of order.\n",
        "result = my_function(parameter2=20, parameter1=10)\n",
        "Default Arguments: You can provide default values for parameters in the function definition. If an argument is not provided for a parameter with a default value, the default value is used.\n",
        "\n",
        "4. What is the purpose of the `return` statement in a Python function?\n",
        "\n",
        "-  The return statement in a Python function has one primary purpose:\n",
        "\n",
        "To send a value back from the function to the place where it was called.\n",
        "When a return statement is encountered in a function, the function immediately stops executing, and the value specified after return is sent back as the result of the function call.\n",
        "\n",
        "If a function doesn't have a return statement, or if it has a return statement without a value, it implicitly returns None.\n",
        "\n",
        "5. What are iterators in Python and how do they differ from iterables?\n",
        "\n",
        "-  Great question! Iterators and iterables are fundamental concepts in Python when it comes to working with sequences of data. Here's a breakdown of what they are and how they differ:\n",
        "\n",
        "Iterable:\n",
        "\n",
        "An iterable is an object that you can \"iterate\" over. This means you can go through its elements one by one.\n",
        "Examples of iterables include lists, tuples, strings, dictionaries, and sets.\n",
        "An object is considered an iterable if it has an __iter__() method. This method should return an iterator object.\n",
        "You can use a for loop directly on an iterable.\n",
        "\n",
        "\n",
        "6. Explain the concept of generators in Python and how they are defined.\n",
        "\n",
        "-  Absolutely! Generators are a powerful and memory-efficient way to create iterators in Python.\n",
        "\n",
        "What are Generators?\n",
        "\n",
        "Generators are a special type of function that return an iterator. Unlike regular functions that return a single value and then terminate, generator functions use the yield keyword to produce a sequence of values over time. When a generator function encounters a yield statement, it pauses its execution and returns the yielded value. The next time the generator's __next__() method is called, it resumes from where it left off.\n",
        "\n",
        "This makes generators ideal for working with large datasets or infinite sequences, as they generate values on the fly rather than storing the entire sequence in memory.\n",
        "\n",
        "How are Generators Defined?\n",
        "\n",
        "Generators are defined like regular functions, but instead of using the return keyword to return a final value, they use the yield keyword one or more times.\n",
        "\n",
        "Here's a simple example of a generator function that yields a sequence of numbers:\n",
        "\n",
        "7. What are the advantages of using generators over regular functions?\n",
        "\n",
        "-  Using generators over regular functions (that return a list or other collection) offers several key advantages, primarily related to memory usage and performance:\n",
        "\n",
        "Memory Efficiency: This is the most significant advantage. Regular functions that return a list or tuple create and store the entire sequence in memory at once. For very large datasets or infinite sequences, this can consume a huge amount of memory and even lead to MemoryError. Generators, on the other hand, generate values on the fly as they are requested using the yield keyword. They only keep track of their current state, so they are very memory efficient.\n",
        "\n",
        "Example: Imagine reading a huge file line by line. A function returning a list of all lines would load the entire file into memory. A generator yielding one line at a time would only need to store the current line in memory.\n",
        "Lazy Evaluation: Generators perform lazy evaluation, meaning they only produce the next value when it's explicitly requested (e.g., by calling next() or in a for loop). This is in contrast to eager evaluation, where a regular function computes and returns all values at once. Lazy evaluation can be beneficial when you don't need all the values immediately or if the sequence is very long.\n",
        "\n",
        "Working with Infinite Sequences: Generators are the only practical way to work with infinite sequences in Python. Since they generate values on demand, you can create a generator for an infinite sequence and consume values from it as needed without ever running out of memory.\n",
        "\n",
        "Example: A generator that yields all prime numbers is feasible, while a list containing all prime numbers is not.\n",
        "Improved Performance for Large Datasets: While generating values one by one might seem slower initially, for large datasets, the reduced memory usage and avoidance of creating intermediate data structures can lead to better overall performance.\n",
        "\n",
        "Cleaner Code for Iteration: In some cases, using yield can make the code for creating an iterator more readable and concise compared to manually implementing the __iter__() and __next__() methods for a custom iterator class.\n",
        "\n",
        "When to use Generators:\n",
        "\n",
        "When working with large datasets that won't fit entirely in memory.\n",
        "When you need to generate a sequence of values over time.\n",
        "When dealing with infinite sequences.\n",
        "When you want to improve the memory efficiency of your code.\n",
        "In summary, generators are a powerful tool in Python for creating memory-efficient iterators, especially when dealing with large or infinite sequences. They offer a significant advantage over regular functions that return entire collections by generating values lazily.\n",
        "\n",
        "Would you like me to provide more specific examples of when generators are particularly useful?\n",
        "\n",
        "8.  What is a lambda function in Python and when is it typically used?\n",
        "\n",
        "-  A lambda function (also known as an anonymous function) is a small, single-expression function that you don't explicitly define using the def keyword. It's created using the lambda keyword.\n",
        "\n",
        "The basic syntax is:\n",
        "\n",
        "lambda arguments: expression\n",
        "lambda: The keyword used to create a lambda function.\n",
        "arguments: Zero or more arguments that the lambda function can take (similar to parameters in a regular function).\n",
        "expression: A single expression whose result is implicitly returned by the lambda function\n",
        "\n",
        "9.  Explain the purpose and usage of the `map()` function in Python.\n",
        "\n",
        "-  Absolutely! Let's explore the purpose and usage of the map() function in Python.\n",
        "\n",
        "Purpose of map()\n",
        "\n",
        "The map() function is a built-in Python function that is used to apply a given function to each item of an iterable (like a list, tuple, etc.) and return an iterator of the results. It provides a concise way to perform the same operation on multiple elements without writing an explicit for loop in many cases.\n",
        "\n",
        "Usage of map()\n",
        "\n",
        "The basic syntax of map() is:\n",
        "\n",
        "map(function, iterable)\n",
        "function: The function that you want to apply to each item of the iterable. This function should take one argument.\n",
        "iterable: The sequence (like a list, tuple, string, etc.) whose elements you want to process.\n",
        "map() returns a map object, which is an iterator. To get the results as a list, tuple, or other sequence, you need to convert the map object using functions like list(), tuple(), etc.\n",
        "\n",
        "10.  What is the difference between `map()`, `reduce()`, and `filter()` functions in Python?\n",
        "\n",
        "-  Great question! map(), filter(), and reduce() are three built-in Python functions that are often used for functional programming paradigms, but they serve different purposes. Here's a breakdown of each and how they differ:\n",
        "\n",
        "map()\n",
        "\n",
        "Purpose: Applies a given function to each item of an iterable and returns an iterator of the results. It transforms each element individually.\n",
        "Syntax: map(function, iterable)\n",
        "Output: An iterator that yields the results of applying the function to each element.\n",
        "Example: Squaring each number in a list.\n",
        "numbers = [1, 2, 3, 4, 5]\n",
        "squared_numbers = list(map(lambda x: x**2, numbers))\n",
        "print(squared_numbers) # Output: [1, 4, 9, 16, 25]\n",
        "filter()\n",
        "\n",
        "Purpose: Constructs an iterator from elements of an iterable for which a function returns true. It selects elements based on a condition.\n",
        "Syntax: filter(function, iterable)\n",
        "Output: An iterator that yields only the elements from the iterable for which the function returned True.\n",
        "Example: Getting only the even numbers from a list.\n",
        "numbers = [1, 2, 3, 4, 5, 6]\n",
        "even_numbers = list(filter(lambda x: x % 2 == 0, numbers))\n",
        "print(even_numbers) # Output: [2, 4, 6]\n",
        "reduce()\n",
        "\n",
        "Purpose: Applies a function of two arguments cumulatively to the items of an iterable, from left to right, so as to reduce the iterable to a single value. You need to import reduce from the functools module.\n",
        "Syntax: reduce(function, iterable[, initializer])\n",
        "Output: A single value that is the result of the cumulative application of the function.\n",
        "\n",
        "11.  Using pen & Paper write the internal mechanism for sum operation using  reduce function on this given\n",
        "list:[47,11,42,13];\n",
        "\n",
        "-  the internal mechanism of the reduce function for summing the list [47, 11, 42, 13] using a pen-and-paper approach.\n",
        "\n",
        "The reduce() function takes a function (in this case, a function that adds two numbers) and an iterable (the list [47, 11, 42, 13]). It applies the function cumulatively to the items of the iterable from left to right.\n",
        "\n",
        "Here's how it would work step by step:\n",
        "\n",
        "Input:\n",
        "\n",
        "List: [47, 11, 42, 13]\n",
        "Function: add(x, y) which returns x + y\n",
        "Steps:\n",
        "\n",
        "Initial Step: reduce takes the first two elements from the list: 47 and 11. It applies the add function to them.\n",
        "\n",
        "add(47, 11) = 47 + 11 = 58\n",
        "The result, 58, becomes the intermediate result.\n",
        "\n",
        "Second Step: reduce takes the intermediate result from the previous step (58) and the next element from the list (42). It applies the add function to them.\n",
        "\n",
        "add(58, 42) = 58 + 42 = 100\n",
        "The new intermediate result is 100.\n",
        "\n",
        "Third Step: reduce takes the intermediate result from the previous step (100) and the next element from the list (13). It applies the add function to them.\n",
        "\n",
        "add(100, 13) = 100 + 13 = 113\n",
        "The new intermediate result is 113.\n",
        "\n",
        "Final Step: reduce has processed all the elements in the list. The last intermediate result, 113, is the final result of the reduce operation.\n",
        "\n",
        "Summary of the process:\n",
        "\n",
        "Start with the list: [47, 11, 42, 13]\n",
        "Apply add to the first two: add(47, 11) = 58\n",
        "Take the result (58) and the next element (42): add(58, 42) = 100\n",
        "Take the result (100) and the next element (13): add(100, 13) = 113\n",
        "\n",
        "The final result is 113.\n"
      ],
      "metadata": {
        "id": "b62s_tE0DGX-"
      }
    },
    {
      "cell_type": "code",
      "metadata": {
        "colab": {
          "base_uri": "https://localhost:8080/"
        },
        "id": "8bfb1fd8",
        "outputId": "224142e0-ce20-40ab-f998-ea792d56f9a1"
      },
      "source": [
        "# Write a Python function that takes a list of numbers as input and returns the sum of all even numbers in\n",
        "the list\n",
        "\n",
        "def sum_of_even_numbers(numbers):\n",
        "  \"\"\"\n",
        "  Calculates the sum of all even numbers in a list.\n",
        "\n",
        "  Args:\n",
        "    numbers: A list of numbers.\n",
        "\n",
        "  Returns:\n",
        "    The sum of all even numbers in the list.\n",
        "  \"\"\"\n",
        "  even_sum = 0\n",
        "  for number in numbers:\n",
        "    if number % 2 == 0:\n",
        "      even_sum += number\n",
        "  return even_sum\n",
        "\n",
        "# Example usage:\n",
        "my_list = [1, 2, 3, 4, 5, 6, 7, 8, 9, 10]\n",
        "even_sum = sum_of_even_numbers(my_list)\n",
        "print(f\"The sum of even numbers in the list is: {even_sum}\")"
      ],
      "execution_count": 4,
      "outputs": [
        {
          "output_type": "stream",
          "name": "stdout",
          "text": [
            "The sum of even numbers in the list is: 30\n"
          ]
        }
      ]
    },
    {
      "cell_type": "code",
      "metadata": {
        "colab": {
          "base_uri": "https://localhost:8080/"
        },
        "id": "763fcb7f",
        "outputId": "84375593-6287-4dae-8668-29075a137f7f"
      },
      "source": [
        "# Create a Python function that accepts a string and returns the reverse of that string.\n",
        "\n",
        "def reverse_string(input_string):\n",
        "  \"\"\"\n",
        "  Reverses a given string.\n",
        "\n",
        "  Args:\n",
        "    input_string: The string to be reversed.\n",
        "\n",
        "  Returns:\n",
        "    The reversed string.\n",
        "  \"\"\"\n",
        "  return input_string[::-1]\n",
        "\n",
        "# Example usage:\n",
        "my_string = \"Hello, World!\"\n",
        "reversed_string = reverse_string(my_string)\n",
        "print(f\"The original string is: {my_string}\")\n",
        "print(f\"The reversed string is: {reversed_string}\")"
      ],
      "execution_count": 5,
      "outputs": [
        {
          "output_type": "stream",
          "name": "stdout",
          "text": [
            "The original string is: Hello, World!\n",
            "The reversed string is: !dlroW ,olleH\n"
          ]
        }
      ]
    },
    {
      "cell_type": "code",
      "metadata": {
        "colab": {
          "base_uri": "https://localhost:8080/"
        },
        "id": "ca4687e9",
        "outputId": "19e694c3-34ed-4a0d-afa4-f3f9e8346ac2"
      },
      "source": [
        "# Implement a Python function that takes a list of integers and returns a new list containing the squares of\n",
        "each number.\n",
        "\n",
        "def square_numbers(numbers):\n",
        "  \"\"\"\n",
        "  Returns a new list containing the squares of each number in the input list.\n",
        "\n",
        "  Args:\n",
        "    numbers: A list of integers.\n",
        "\n",
        "  Returns:\n",
        "    A new list with the squares of the input numbers.\n",
        "  \"\"\"\n",
        "  squared_list = []\n",
        "  for number in numbers:\n",
        "    squared_list.append(number ** 2)\n",
        "  return squared_list\n",
        "\n",
        "# Example usage:\n",
        "my_numbers = [1, 2, 3, 4, 5]\n",
        "squared_numbers = square_numbers(my_numbers)\n",
        "print(f\"Original list: {my_numbers}\")\n",
        "print(f\"Squared list: {squared_numbers}\")"
      ],
      "execution_count": 6,
      "outputs": [
        {
          "output_type": "stream",
          "name": "stdout",
          "text": [
            "Original list: [1, 2, 3, 4, 5]\n",
            "Squared list: [1, 4, 9, 16, 25]\n"
          ]
        }
      ]
    },
    {
      "cell_type": "code",
      "metadata": {
        "colab": {
          "base_uri": "https://localhost:8080/"
        },
        "id": "65c1d3a0",
        "outputId": "c463a464-ea49-4ee4-e543-d9ddbafd8f2b"
      },
      "source": [
        "# Write a Python function that checks if a given number is prime or not from 1 to 200.\n",
        "\n",
        "def is_prime(num):\n",
        "  \"\"\"\n",
        "  Checks if a given number is prime.\n",
        "\n",
        "  Args:\n",
        "    num: An integer.\n",
        "\n",
        "  Returns:\n",
        "    True if the number is prime, False otherwise.\n",
        "  \"\"\"\n",
        "  if num <= 1:\n",
        "    return False  # Numbers less than or equal to 1 are not prime\n",
        "  for i in range(2, int(num**0.5) + 1):\n",
        "    if num % i == 0:\n",
        "      return False  # Found a divisor, so not prime\n",
        "  return True  # No divisors found, it's prime\n",
        "\n",
        "# Check prime numbers from 1 to 200\n",
        "print(\"Prime numbers between 1 and 200:\")\n",
        "for number in range(1, 201):\n",
        "  if is_prime(number):\n",
        "    print(number)"
      ],
      "execution_count": 7,
      "outputs": [
        {
          "output_type": "stream",
          "name": "stdout",
          "text": [
            "Prime numbers between 1 and 200:\n",
            "2\n",
            "3\n",
            "5\n",
            "7\n",
            "11\n",
            "13\n",
            "17\n",
            "19\n",
            "23\n",
            "29\n",
            "31\n",
            "37\n",
            "41\n",
            "43\n",
            "47\n",
            "53\n",
            "59\n",
            "61\n",
            "67\n",
            "71\n",
            "73\n",
            "79\n",
            "83\n",
            "89\n",
            "97\n",
            "101\n",
            "103\n",
            "107\n",
            "109\n",
            "113\n",
            "127\n",
            "131\n",
            "137\n",
            "139\n",
            "149\n",
            "151\n",
            "157\n",
            "163\n",
            "167\n",
            "173\n",
            "179\n",
            "181\n",
            "191\n",
            "193\n",
            "197\n",
            "199\n"
          ]
        }
      ]
    },
    {
      "cell_type": "code",
      "metadata": {
        "colab": {
          "base_uri": "https://localhost:8080/"
        },
        "id": "9a391c2a",
        "outputId": "b782b46c-3344-4492-f324-64460734bdad"
      },
      "source": [
        "# Create an iterator class in Python that generates the Fibonacci sequence up to a specified number of\n",
        "terms\n",
        "\n",
        "class FibonacciIterator:\n",
        "  \"\"\"\n",
        "  An iterator that generates the Fibonacci sequence up to a specified number of terms.\n",
        "  \"\"\"\n",
        "  def __init__(self, num_terms):\n",
        "    if num_terms <= 0:\n",
        "      raise ValueError(\"Number of terms must be positive\")\n",
        "    self.num_terms = num_terms\n",
        "    self.current_term = 0\n",
        "    self.a = 0\n",
        "    self.b = 1\n",
        "\n",
        "  def __iter__(self):\n",
        "    return self\n",
        "\n",
        "  def __next__(self):\n",
        "    if self.current_term < self.num_terms:\n",
        "      if self.current_term == 0:\n",
        "        self.current_term += 1\n",
        "        return self.a\n",
        "      elif self.current_term == 1:\n",
        "        self.current_term += 1\n",
        "        return self.b\n",
        "      else:\n",
        "        next_fib = self.a + self.b\n",
        "        self.a = self.b\n",
        "        self.b = next_fib\n",
        "        self.current_term += 1\n",
        "        return next_fib\n",
        "    else:\n",
        "      raise StopIteration\n",
        "\n",
        "# Example usage:\n",
        "fib_iterator = FibonacciIterator(10)\n",
        "\n",
        "print(\"Fibonacci sequence:\")\n",
        "for number in fib_iterator:\n",
        "  print(number)"
      ],
      "execution_count": 8,
      "outputs": [
        {
          "output_type": "stream",
          "name": "stdout",
          "text": [
            "Fibonacci sequence:\n",
            "0\n",
            "1\n",
            "1\n",
            "2\n",
            "3\n",
            "5\n",
            "8\n",
            "13\n",
            "21\n",
            "34\n"
          ]
        }
      ]
    },
    {
      "cell_type": "code",
      "metadata": {
        "colab": {
          "base_uri": "https://localhost:8080/"
        },
        "id": "ba8a261e",
        "outputId": "019b09c6-4f43-450d-c74a-48e8d0f369f1"
      },
      "source": [
        "# Write a generator function in Python that yields the powers of 2 up to a given exponent.\n",
        "\n",
        "def powers_of_two(max_exponent):\n",
        "  \"\"\"\n",
        "  A generator function that yields powers of 2 up to a given exponent.\n",
        "\n",
        "  Args:\n",
        "    max_exponent: The maximum exponent (inclusive).\n",
        "\n",
        "  Yields:\n",
        "    The next power of 2.\n",
        "  \"\"\"\n",
        "  for i in range(max_exponent + 1):\n",
        "    yield 2**i\n",
        "\n",
        "# Example usage:\n",
        "powers_gen = powers_of_two(5)\n",
        "\n",
        "print(\"Powers of 2:\")\n",
        "for power in powers_gen:\n",
        "  print(power)"
      ],
      "execution_count": 11,
      "outputs": [
        {
          "output_type": "stream",
          "name": "stdout",
          "text": [
            "Powers of 2:\n",
            "1\n",
            "2\n",
            "4\n",
            "8\n",
            "16\n",
            "32\n"
          ]
        }
      ]
    },
    {
      "cell_type": "code",
      "metadata": {
        "colab": {
          "base_uri": "https://localhost:8080/"
        },
        "id": "059a3bd6",
        "outputId": "e38343c8-3a72-4a3f-c7a9-77932ca71805"
      },
      "source": [
        "#  Use a lambda function in Python to sort a list of tuples based on the second element of each tuple.\n",
        "\n",
        "# List of tuples\n",
        "list_of_tuples = [(1, 'banana'), (3, 'apple'), (2, 'cherry'), (4, 'date')]\n",
        "\n",
        "# Use sorted() with a lambda function to sort by the second element\n",
        "sorted_list = sorted(list_of_tuples, key=lambda item: item[1])\n",
        "\n",
        "print(\"Original list of tuples:\", list_of_tuples)\n",
        "print(\"Sorted list of tuples by second element:\", sorted_list)"
      ],
      "execution_count": 14,
      "outputs": [
        {
          "output_type": "stream",
          "name": "stdout",
          "text": [
            "Original list of tuples: [(1, 'banana'), (3, 'apple'), (2, 'cherry'), (4, 'date')]\n",
            "Sorted list of tuples by second element: [(3, 'apple'), (1, 'banana'), (2, 'cherry'), (4, 'date')]\n"
          ]
        }
      ]
    },
    {
      "cell_type": "code",
      "metadata": {
        "colab": {
          "base_uri": "https://localhost:8080/"
        },
        "id": "705a2918",
        "outputId": "ac117593-cfd3-4144-8721-5eae2d0ef082"
      },
      "source": [
        "#  Write a Python program that uses `map()` to convert a list of temperatures from Celsius to Fahrenheit.\n",
        "\n",
        "# List of temperatures in Celsius\n",
        "celsius_temperatures = [0, 10, 20, 30, 40]\n",
        "\n",
        "# Function to convert Celsius to Fahrenheit\n",
        "def celsius_to_fahrenheit(celsius):\n",
        "  return (celsius * 9/5) + 32\n",
        "\n",
        "# Use map() to apply the conversion function to each temperature\n",
        "fahrenheit_temperatures_iterator = map(celsius_to_fahrenheit, celsius_temperatures)\n",
        "\n",
        "# Convert the map object to a list to see the results\n",
        "fahrenheit_temperatures_list = list(fahrenheit_temperatures_iterator)\n",
        "\n",
        "print(f\"Celsius temperatures: {celsius_temperatures}\")\n",
        "print(f\"Fahrenheit temperatures: {fahrenheit_temperatures_list}\")"
      ],
      "execution_count": 15,
      "outputs": [
        {
          "output_type": "stream",
          "name": "stdout",
          "text": [
            "Celsius temperatures: [0, 10, 20, 30, 40]\n",
            "Fahrenheit temperatures: [32.0, 50.0, 68.0, 86.0, 104.0]\n"
          ]
        }
      ]
    },
    {
      "cell_type": "code",
      "metadata": {
        "colab": {
          "base_uri": "https://localhost:8080/"
        },
        "id": "dbadb3eb",
        "outputId": "530a798c-5df6-459a-af21-0f4c5024aadb"
      },
      "source": [
        "# Create a Python program that uses `filter()` to remove all the vowels from a given string\n",
        "\n",
        "def is_not_vowel(char):\n",
        "  \"\"\"Checks if a character is not a vowel (case-insensitive).\"\"\"\n",
        "  vowels = \"aeiouAEIOU\"\n",
        "  return char not in vowels\n",
        "\n",
        "# Given string\n",
        "input_string = \"Hello, World!\"\n",
        "\n",
        "# Use filter() to keep only non-vowel characters\n",
        "filtered_chars_iterator = filter(is_not_vowel, input_string)\n",
        "\n",
        "# Join the filtered characters back into a string\n",
        "result_string = \"\".join(filtered_chars_iterator)\n",
        "\n",
        "print(f\"Original string: {input_string}\")\n",
        "print(f\"String without vowels: {result_string}\")"
      ],
      "execution_count": 16,
      "outputs": [
        {
          "output_type": "stream",
          "name": "stdout",
          "text": [
            "Original string: Hello, World!\n",
            "String without vowels: Hll, Wrld!\n"
          ]
        }
      ]
    },
    {
      "cell_type": "markdown",
      "metadata": {
        "id": "bccee8a1"
      },
      "source": [
        "# Task\n",
        "Write a Python program that processes a list of book orders, where each order is a sublist containing the order number, price per item, and quantity. The program should return a list of 2-tuples, where each tuple contains the order number and the calculated order value. The order value is the product of the price per item and the quantity, with an additional 10.00 € added if the calculated value is less than 100.00 €."
      ]
    },
    {
      "cell_type": "markdown",
      "metadata": {
        "id": "8a6a9684"
      },
      "source": [
        "## Define the input data\n",
        "\n",
        "### Subtask:\n",
        "Create the list of book orders with sublists as described.\n"
      ]
    },
    {
      "cell_type": "markdown",
      "metadata": {
        "id": "5d590342"
      },
      "source": [
        "**Reasoning**:\n",
        "The subtask requires creating a list of book orders with a specific structure. This can be done by directly defining the list with sublists containing the order details.\n",
        "\n"
      ]
    },
    {
      "cell_type": "code",
      "metadata": {
        "id": "df9ce004"
      },
      "source": [
        "book_orders = [\n",
        "    [101, 15.50, 3],    # Value = 46.50 (less than 100)\n",
        "    [102, 50.00, 2],    # Value = 100.00 (not less than 100)\n",
        "    [103, 5.00, 10],    # Value = 50.00 (less than 100)\n",
        "    [104, 100.00, 1],   # Value = 100.00 (not less than 100)\n",
        "    [105, 25.00, 5],    # Value = 125.00 (greater than 100)\n",
        "    [106, 8.75, 12]     # Value = 105.00 (greater than 100)\n",
        "]"
      ],
      "execution_count": 17,
      "outputs": []
    },
    {
      "cell_type": "markdown",
      "metadata": {
        "id": "75dcb1e2"
      },
      "source": [
        "## Process each order, calculate order value, apply the condition, adjust order value, create the result tuple, collect results, return the result list\n",
        "\n",
        "### Subtask:\n",
        "Iterate through the list of book orders, calculate the order value for each, apply the condition to adjust the value if necessary, create a tuple with the order number and the adjusted value, and collect these tuples into a new list to be returned.\n"
      ]
    },
    {
      "cell_type": "markdown",
      "metadata": {
        "id": "b144335d"
      },
      "source": [
        "**Reasoning**:\n",
        "Implement the logic to iterate through the book orders, calculate and adjust the order value, and collect the results into a list of tuples as described in steps 1-8 of the instructions.\n",
        "\n"
      ]
    },
    {
      "cell_type": "code",
      "metadata": {
        "colab": {
          "base_uri": "https://localhost:8080/"
        },
        "id": "990d466f",
        "outputId": "eb6f3adf-8fc2-4d35-9317-7dd60a382508"
      },
      "source": [
        "def process_book_orders(orders):\n",
        "  \"\"\"\n",
        "  Processes a list of book orders to calculate and adjust order values.\n",
        "\n",
        "  Args:\n",
        "    orders: A list of book orders, where each order is [order_number, price_per_item, quantity].\n",
        "\n",
        "  Returns:\n",
        "    A list of 2-tuples, where each tuple contains the order number and the\n",
        "    calculated order value (adjusted if necessary).\n",
        "  \"\"\"\n",
        "  processed_orders = []\n",
        "  for order in orders:\n",
        "    order_number = order[0]\n",
        "    price_per_item = order[1]\n",
        "    quantity = order[2]\n",
        "\n",
        "    order_value = price_per_item * quantity\n",
        "\n",
        "    if order_value < 100.00:\n",
        "      order_value += 10.00\n",
        "\n",
        "    processed_orders.append((order_number, order_value))\n",
        "\n",
        "  return processed_orders\n",
        "\n",
        "# Example usage with the previously defined book_orders list\n",
        "processed_results = process_book_orders(book_orders)\n",
        "print(processed_results)"
      ],
      "execution_count": 18,
      "outputs": [
        {
          "output_type": "stream",
          "name": "stdout",
          "text": [
            "[(101, 56.5), (102, 100.0), (103, 60.0), (104, 100.0), (105, 125.0), (106, 105.0)]\n"
          ]
        }
      ]
    },
    {
      "cell_type": "markdown",
      "metadata": {
        "id": "63ddab7a"
      },
      "source": [
        "## Summary:\n",
        "\n",
        "### Data Analysis Key Findings\n",
        "\n",
        "*   The input data consists of a list of book orders, where each order is a sublist containing the order number, price per item, and quantity.\n",
        "*   The program successfully processes the `book_orders` list `[[101, 15.50, 3], [102, 50.00, 2], [103, 5.00, 10], [104, 100.00, 1], [105, 25.00, 5], [106, 8.75, 12]]`.\n",
        "*   For each order, the order value is calculated by multiplying the price per item and quantity.\n",
        "*   An additional 10.00 € is added to the order value if the calculated value is less than 100.00 €.\n",
        "*   The final output is a list of 2-tuples, where each tuple contains the order number and the adjusted order value, which is `[(101, 56.5), (102, 100.0), (103, 60.0), (104, 100.0), (105, 125.0), (106, 105.0)]`.\n",
        "\n",
        "### Insights or Next Steps\n",
        "\n",
        "*   The implemented logic correctly handles the conditional addition to the order value based on the \\$100 threshold.\n",
        "*   This processed data can now be used for further analysis, such as calculating total revenue or identifying orders with the minimum adjusted value.\n"
      ]
    }
  ]
}