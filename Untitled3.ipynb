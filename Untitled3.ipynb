{
  "nbformat": 4,
  "nbformat_minor": 0,
  "metadata": {
    "colab": {
      "provenance": []
    },
    "kernelspec": {
      "name": "python3",
      "display_name": "Python 3"
    },
    "language_info": {
      "name": "python"
    }
  },
  "cells": [
    {
      "cell_type": "markdown",
      "source": [
        "1. What are data structures, and why are they important?\n",
        "-  Data structures are ways of organizing and storing data in a computer so that it can be accessed and modified efficiently. They are important because they allow us to manage and manipulate data in a way that is suitable for various tasks and problems, which in turn helps in writing efficient and optimized code\n",
        "\n",
        "2.  Explain the difference between mutable and immutable data types with examples?\n",
        "-  Mutable data types are those whose values can be changed after they are created. This means you can modify, add, or remove elements from them. Examples of mutable data types in Python include lists, dictionaries, and sets.\n",
        "\n",
        "3. What are the main differences between lists and tuples in Python?\n",
        "-  The main differences between lists and tuples in Python are:\n",
        "\n",
        "Mutability: Lists are mutable, meaning you can change their elements after creation. Tuples are immutable, meaning their elements cannot be changed after creation.\n",
        "\n",
        "Syntax: Lists are defined using square brackets [], while tuples are defined using parentheses ().\n",
        "\n",
        "Performance: Tuples are generally faster than lists because of their immutable nature. Since their size is fixed, Python can perform some optimizations.\n",
        "\n",
        "Use cases: Lists are typically used for collections of items that might change, while tuples are used for collections of items that should not change, such as coordinates or database records.\n",
        "\n",
        "4.  Describe how dictionaries store data?\n",
        "-  Dictionaries in Python store data as key-value pairs. Think of it like a real-world dictionary where you look up a word (the key) to find its definition (the value).\n",
        "\n",
        "5. Why might you use a set instead of a list in Python?\n",
        "-  You might choose to use a set instead of a list in Python for several reasons, primarily related to the unique nature of set elements and their performance characteristics for certain operations:\n",
        "\n",
        "6. What is a string in Python, and how is it different from a list?\n",
        "-  In Python, a string is a sequence of characters. It's used to represent text. Strings are immutable, meaning once you create a string, you cannot change individual characters within it. Any operation that seems to modify a string actually creates a new string. Strings are enclosed in single quotes ('...'), double quotes (\"...\"), or triple quotes ('''...''' or \"\"\"...\"\"\") for multi-line strings.\n",
        "\n",
        "7. How do tuples ensure data integrity in Python?\n",
        "-  Tuples ensure data integrity in Python primarily through their immutability. Because you cannot change the elements of a tuple after it's created, you can be confident that the data within the tuple will remain exactly as it was when the tuple was defined.\n",
        "\n",
        "8. What is a hash table, and how does it relate to dictionaries in Python?\n",
        "-  A hash table (also known as a hash map or dictionary) is a data structure that implements an associative array, which is a collection of key-value pairs. It uses a hash function to compute an index into an array of buckets or slots, from which the desired value can be found\n",
        "ython dictionaries are implemented using hash tables. This means that:\n",
        "\n",
        "When you create a dictionary and add key-value pairs, Python uses a hash function to determine where to store each pair based on the key.\n",
        "When you access a value using a key (e.g., my_dict[\"name\"]), Python calculates the hash of the key and uses it to quickly locate the corresponding value in the hash table.\n",
        "\n",
        "9.  Can lists contain different data types in Python?\n",
        "-  es, absolutely! Lists in Python are incredibly flexible and can contain elements of different data types within the same list. This is a key feature that makes lists very versatile.\n",
        "\n",
        "10.  Explain why strings are immutable in Python?\n",
        "-  Strings are immutable in Python, meaning once a string object is created, its contents cannot be changed. While this might seem like a limitation at first, there are several reasons why Python's designers chose to make strings immutable:\n",
        "\n",
        "11. What advantages do dictionaries offer over lists for certain tasks?\n",
        "-  Fast Lookups (Retrieval by Key): This is arguably the biggest advantage. Accessing a value in a dictionary by its key is extremely fast, on average O(1) (constant time), regardless of the size of the dictionary. This is because dictionaries use hash tables, which allow for direct access to the value based on the key's hash. In contrast, finding a specific element in a list by its value requires iterating through the list, which can take O(n) time (linear time) in the worst case.\n",
        "\n",
        "\n",
        "Meaningful Indexing: Dictionaries use descriptive keys (like strings) to access values, rather than numerical indices (like in lists). This makes your code more readable and understandable, as the key itself conveys the meaning of the data you are accessing. For example, person[\"name\"] is much more descriptive than person[0].\n",
        "\n",
        "\n",
        "Representing Relationships: Dictionaries are excellent for representing relationships between pieces of data where one piece of data (the key) is uniquely associated with another (the value). This is ideal for things like configuration settings, object properties, or mapping identifiers to objects.\n",
        "\n",
        "\n",
        "Storing Unordered Collections of Unique Keys: While lists are ordered collections where elements are accessed by their position, dictionaries store an unordered collection of unique keys with associated values. This is useful when the order of items doesn't matter, but you need quick access to values based on their unique identifiers.\n",
        "\n",
        "\n",
        "Flexibility in Data Types: Both keys and values in dictionaries can be of various data types (with keys having the hashability constraint). This allows for flexible data representation.\n",
        "\n",
        "12. Describe a scenario where using a tuple would be preferable over a list?\n",
        "-  A scenario where using a tuple would be preferable over a list is when you need to represent a collection of related items that should not be changed after they are created.\n",
        "\n",
        "Here are a few specific examples:\n",
        "\n",
        "Representing Coordinates: If you are working with geometric shapes or plotting, you might need to represent points in a 2D or 3D space. A coordinate like (x, y) or (x, y, z) is a fixed set of values that shouldn't typically be altered. Using a tuple (x, y) ensures that these coordinates remain constant.\n",
        "\n",
        "\n",
        "Storing RGB Color Values: Color can be represented using a combination of red, green, and blue values. An RGB color value, like (255, 0, 0) for red, is a fixed set of three numbers. Using a tuple (red, green, blue) ensures that these color components aren't accidentally modified.\n",
        "\n",
        "\n",
        "Returning Multiple Values from a Function: Functions in Python can return multiple values, and they are typically returned as a tuple. This is a clean and efficient way to package related data that should remain together and unchanged as a single result.\n",
        "\n",
        "13. How do sets handle duplicate values in Python?\n",
        "-  Sets in Python are designed to store unique and unordered elements. This means that sets automatically handle duplicate values by discarding them.\n",
        "\n",
        "14. How does the “in” keyword work differently for lists and dictionaries?\n",
        "-  The in keyword in Python is used to test for membership, but it behaves differently for lists and dictionaries due to their underlying structure and how they store data.\n",
        "\n",
        "For Lists:\n",
        "\n",
        "When you use in with a list, it checks if an element is present anywhere within the list. Python iterates through the list from the beginning and compares each element to the one you're searching for\n",
        "\n",
        "For Dictionaries:\n",
        "\n",
        "When you use in with a dictionary, it checks if a key is present in the dictionary. It does not check if a value is present. Python uses the dictionary's hash table structure to quickly determine if the key exists.\n",
        "\n",
        "15. Can you modify the elements of a tuple? Explain why or why not?\n",
        "-  No, you cannot modify the elements of a tuple after it has been created.\n",
        "\n",
        "The reason for this is that tuples are immutable data types in Python. Immutability means that the contents of the object cannot be changed after it is created. Once a tuple is defined, its size and the values of its elements are fixed.\n",
        "\n",
        "Any operation that appears to modify a tuple, such as trying to assign a new value to an element by index, will result in a TypeError.\n",
        "\n",
        "16. What is a nested dictionary, and give an example of its use case?\n",
        "-  A nested dictionary in Python is simply a dictionary where at least one of the values is another dictionary. This allows you to create hierarchical data structures, representing more complex relationships between data.\n",
        "Use Case Example:\n",
        "\n",
        "A common use case for nested dictionaries is representing structured data like JSON (JavaScript Object Notation), which is frequently used for data exchange on the web. A JSON object often translates directly into a nested dictionary in Python.\n",
        "\n",
        "17. Describe the time complexity of accessing elements in a dictionary?\n",
        "-  The time complexity of accessing elements in a Python dictionary (retrieving a value using its key) is, on average, O(1) (constant time).\n",
        "\n",
        "This means that the time it takes to access an element is generally independent of the number of elements in the dictionary. Whether the dictionary has 10 items or 1 million items, the time to retrieve a value by its key is roughly the same.\n",
        "\n",
        "This efficiency is a major advantage of dictionaries and is achieved because of their underlying implementation using hash tables.\n",
        "\n",
        "Here's why it's O(1) on average:\n",
        "\n",
        "Hashing: When you access a value using a key, Python's hash function calculates a hash value for the key.\n",
        "Direct Access: This hash value is then used to directly calculate the index (or location) in the hash table where the corresponding value is stored.\n",
        "\n",
        "18. In what situations are lists preferred over dictionaries?\n",
        "-  Both lists and dictionaries are powerful data structures in Python — but they’re used in different situations depending on what kind of data you’re handling and how you want to access it.\n",
        "\n",
        "19.  Why are dictionaries considered unordered, and how does that affect data retrieval?\n",
        "-  Historically, in Python versions prior to 3.7, dictionaries were considered unordered. This meant that the order in which you inserted key-value pairs into a dictionary was not guaranteed to be the order in which they were stored or retrieved. The internal implementation of dictionaries using hash tables determined the storage order, which was not based on insertion orde\n",
        "\n",
        "20. Explain the difference between a list and a dictionary in terms of data retrieval.\n",
        "-  The main difference between a list and a dictionary in terms of data retrieval lies in how you access the individual elements or values.\n",
        "\n",
        "Data Retrieval in Lists:\n",
        "\n",
        "Method: Data in lists is retrieved by its numerical index (its position in the sequence). Indices start at 0 for the first element.\n",
        "Mechanism: When you access an element by index, Python goes directly to that position in the list's underlying memory structure.\n",
        "Time Complexity: Accessing an element by index in a list is typically a fast operation, with a time complexity of O(1) on average.\n",
        "Search by Value: If you need to find an element in a list based on its value, you would typically use the in operator or the list.index() method. This involves iterating through the list, which has a time complexity of O(n) in the worst case.\n",
        "\n",
        "\n",
        "Data Retrieval in dictionaries:\n",
        "Method: Data in dictionaries is retrieved by its key. Each value is associated with a unique key.\n",
        "Mechanism: When you access a value using its key, Python uses a hash function to quickly locate the key's position in the dictionary's hash table.\n",
        "Time Complexity: Retrieving a value by its key in a dictionary is very efficient, with an average time complexity of O(1). This is significantly faster than searching for a value in a list.\n",
        "Search by Key: The in operator is used to efficiently check if a key exists in the dictionary, with an average time complexity of O(1).\n"
      ],
      "metadata": {
        "id": "RwUPZaFFxf0e"
      }
    },
    {
      "cell_type": "code",
      "metadata": {
        "colab": {
          "base_uri": "https://localhost:8080/",
          "height": 0
        },
        "id": "e5c48b3b",
        "outputId": "c9091664-bc3d-4ee4-988d-7a47db353280"
      },
      "source": [
        "# Write a code to create a string with your name and print it\n",
        "\n",
        "my_name = \"abhimanyu\"\n",
        "print(my_name)"
      ],
      "execution_count": 1,
      "outputs": [
        {
          "output_type": "stream",
          "name": "stdout",
          "text": [
            "abhimanyu\n"
          ]
        }
      ]
    },
    {
      "cell_type": "code",
      "metadata": {
        "colab": {
          "base_uri": "https://localhost:8080/",
          "height": 0
        },
        "id": "413d23ea",
        "outputId": "c79d5d30-9b1a-4662-f021-ed22d259e743"
      },
      "source": [
        "# Write a code to find the length of the string \"Hello World\"\n",
        "\n",
        "my_string = \"Hello World\"\n",
        "string_length = len(my_string)\n",
        "print(string_length)"
      ],
      "execution_count": 2,
      "outputs": [
        {
          "output_type": "stream",
          "name": "stdout",
          "text": [
            "11\n"
          ]
        }
      ]
    },
    {
      "cell_type": "code",
      "metadata": {
        "colab": {
          "base_uri": "https://localhost:8080/",
          "height": 0
        },
        "id": "307412c5",
        "outputId": "5dcb493d-32c6-40f6-d40d-4b4a440424ed"
      },
      "source": [
        "# Write a code to slice the first 3 characters from the string \"Python Programming\"\n",
        "\n",
        "my_string = \"Python Programming\"\n",
        "first_three = my_string[:3]\n",
        "print(first_three)"
      ],
      "execution_count": 3,
      "outputs": [
        {
          "output_type": "stream",
          "name": "stdout",
          "text": [
            "Pyt\n"
          ]
        }
      ]
    },
    {
      "cell_type": "code",
      "metadata": {
        "colab": {
          "base_uri": "https://localhost:8080/",
          "height": 0
        },
        "id": "d878e666",
        "outputId": "cf4b278f-4f3f-46fd-db92-56ea20a55b32"
      },
      "source": [
        "# Write a code to convert the string \"hello\" to uppercase\n",
        "\n",
        "my_string = \"hello\"\n",
        "uppercase_string = my_string.upper()\n",
        "print(uppercase_string)"
      ],
      "execution_count": 4,
      "outputs": [
        {
          "output_type": "stream",
          "name": "stdout",
          "text": [
            "HELLO\n"
          ]
        }
      ]
    },
    {
      "cell_type": "code",
      "metadata": {
        "colab": {
          "base_uri": "https://localhost:8080/",
          "height": 0
        },
        "id": "d5fe49ac",
        "outputId": "1b57c425-9a0d-4508-a075-db222abcdfe8"
      },
      "source": [
        "# Write a code to replace the word \"apple\" with \"orange\" in the string \"I like apple\"\n",
        "\n",
        "my_string = \"I like apple\"\n",
        "new_string = my_string.replace(\"apple\", \"orange\")\n",
        "print(new_string)"
      ],
      "execution_count": 5,
      "outputs": [
        {
          "output_type": "stream",
          "name": "stdout",
          "text": [
            "I like orange\n"
          ]
        }
      ]
    },
    {
      "cell_type": "code",
      "metadata": {
        "colab": {
          "base_uri": "https://localhost:8080/",
          "height": 0
        },
        "id": "d1d39f42",
        "outputId": "506a7554-0687-470f-9748-4d44efa3da08"
      },
      "source": [
        "# Write a code to create a list with numbers 1 to 5 and print it\n",
        "\n",
        "my_list = [1, 2, 3, 4, 5]\n",
        "print(my_list)"
      ],
      "execution_count": 6,
      "outputs": [
        {
          "output_type": "stream",
          "name": "stdout",
          "text": [
            "[1, 2, 3, 4, 5]\n"
          ]
        }
      ]
    },
    {
      "cell_type": "code",
      "metadata": {
        "colab": {
          "base_uri": "https://localhost:8080/",
          "height": 0
        },
        "id": "b38126c3",
        "outputId": "3c8b8ca9-e5c9-418b-faad-05f7bf663aad"
      },
      "source": [
        "# Write a code to append the number 10 to the list [1, 2, 3, 4]\n",
        "\n",
        "my_list = [1, 2, 3, 4]\n",
        "my_list.append(10)\n",
        "print(my_list)"
      ],
      "execution_count": 7,
      "outputs": [
        {
          "output_type": "stream",
          "name": "stdout",
          "text": [
            "[1, 2, 3, 4, 10]\n"
          ]
        }
      ]
    },
    {
      "cell_type": "code",
      "metadata": {
        "colab": {
          "base_uri": "https://localhost:8080/",
          "height": 0
        },
        "id": "e755846b",
        "outputId": "fa3c9766-4298-424a-cfd0-9c1c42c69db4"
      },
      "source": [
        "# Write a code to remove the number 3 from the list [1, 2, 3, 4, 5]\n",
        "\n",
        "my_list = [1, 2, 3, 4, 5]\n",
        "my_list.remove(3)\n",
        "print(my_list)"
      ],
      "execution_count": 8,
      "outputs": [
        {
          "output_type": "stream",
          "name": "stdout",
          "text": [
            "[1, 2, 4, 5]\n"
          ]
        }
      ]
    },
    {
      "cell_type": "code",
      "metadata": {
        "colab": {
          "base_uri": "https://localhost:8080/",
          "height": 0
        },
        "id": "c5229b44",
        "outputId": "554f2124-a824-46d7-c1e3-3dde201e4ef3"
      },
      "source": [
        "# Write a code to access the second element in the list ['a', 'b', 'c', 'd']\n",
        "\n",
        "my_list = ['a', 'b', 'c', 'd']\n",
        "second_element = my_list[1]\n",
        "print(second_element)"
      ],
      "execution_count": 9,
      "outputs": [
        {
          "output_type": "stream",
          "name": "stdout",
          "text": [
            "b\n"
          ]
        }
      ]
    },
    {
      "cell_type": "code",
      "metadata": {
        "colab": {
          "base_uri": "https://localhost:8080/",
          "height": 0
        },
        "id": "2285035a",
        "outputId": "b1f392f1-4ae9-4201-ad03-0e4c1c8c08a2"
      },
      "source": [
        "# Write a code to reverse the list [10, 20, 30, 40, 50].\n",
        "\n",
        "my_list = [10, 20, 30, 40, 50]\n",
        "reversed_list = my_list[::-1]\n",
        "print(reversed_list)"
      ],
      "execution_count": 10,
      "outputs": [
        {
          "output_type": "stream",
          "name": "stdout",
          "text": [
            "[50, 40, 30, 20, 10]\n"
          ]
        }
      ]
    },
    {
      "cell_type": "code",
      "metadata": {
        "colab": {
          "base_uri": "https://localhost:8080/",
          "height": 0
        },
        "id": "1aab2558",
        "outputId": "461f49c8-f604-4dd3-f69f-89ec1e915058"
      },
      "source": [
        "# Write a code to create a tuple with the elements 100, 200, 300 and print it\n",
        "\n",
        "my_tuple = (100, 200, 300)\n",
        "print(my_tuple)"
      ],
      "execution_count": 11,
      "outputs": [
        {
          "output_type": "stream",
          "name": "stdout",
          "text": [
            "(100, 200, 300)\n"
          ]
        }
      ]
    },
    {
      "cell_type": "code",
      "metadata": {
        "colab": {
          "base_uri": "https://localhost:8080/",
          "height": 0
        },
        "id": "eab62b1d",
        "outputId": "2b76e44c-7b1d-4939-f02e-6562a1f17d14"
      },
      "source": [
        "# Write a code to access the second-to-last element of the tuple ('red', 'green', 'blue', 'yellow')\n",
        "\n",
        "my_tuple = ('red', 'green', 'blue', 'yellow')\n",
        "second_to_last_element = my_tuple[-2]\n",
        "print(second_to_last_element)"
      ],
      "execution_count": 12,
      "outputs": [
        {
          "output_type": "stream",
          "name": "stdout",
          "text": [
            "blue\n"
          ]
        }
      ]
    },
    {
      "cell_type": "code",
      "metadata": {
        "colab": {
          "base_uri": "https://localhost:8080/",
          "height": 0
        },
        "id": "5ad7645f",
        "outputId": "6d30c1ac-5135-4737-8661-7e0f89c90c2c"
      },
      "source": [
        "# Write a code to find the minimum number in the tuple (10, 20, 5, 15).\n",
        "\n",
        "my_tuple = (10, 20, 5, 15)\n",
        "minimum_number = min(my_tuple)\n",
        "print(minimum_number)"
      ],
      "execution_count": 13,
      "outputs": [
        {
          "output_type": "stream",
          "name": "stdout",
          "text": [
            "5\n"
          ]
        }
      ]
    },
    {
      "cell_type": "code",
      "metadata": {
        "colab": {
          "base_uri": "https://localhost:8080/",
          "height": 0
        },
        "id": "93b6920d",
        "outputId": "5b70f7d0-8f49-4d86-f4d3-32b5e86e563a"
      },
      "source": [
        "# Write a code to find the index of the element \"cat\" in the tuple ('dog', 'cat', 'rabbit').\n",
        "\n",
        "my_tuple = ('dog', 'cat', 'rabbit')\n",
        "index_of_cat = my_tuple.index(\"cat\")\n",
        "print(index_of_cat)"
      ],
      "execution_count": 14,
      "outputs": [
        {
          "output_type": "stream",
          "name": "stdout",
          "text": [
            "1\n"
          ]
        }
      ]
    },
    {
      "cell_type": "code",
      "metadata": {
        "colab": {
          "base_uri": "https://localhost:8080/",
          "height": 0
        },
        "id": "90f40ba6",
        "outputId": "5edec75f-7e23-487a-b343-a262b0745e00"
      },
      "source": [
        "#  Write a code to create a tuple containing three different fruits and check if \"kiwi\" is in it.\n",
        "\n",
        "fruits_tuple = (\"apple\", \"banana\", \"orange\")\n",
        "is_kiwi_in_tuple = \"kiwi\" in fruits_tuple\n",
        "print(is_kiwi_in_tuple)"
      ],
      "execution_count": 15,
      "outputs": [
        {
          "output_type": "stream",
          "name": "stdout",
          "text": [
            "False\n"
          ]
        }
      ]
    },
    {
      "cell_type": "code",
      "metadata": {
        "colab": {
          "base_uri": "https://localhost:8080/",
          "height": 0
        },
        "id": "6fe07433",
        "outputId": "4e5fd8e9-2b95-4ece-9c7d-66082dd4cd61"
      },
      "source": [
        "# Write a code to create a set with the elements 'a', 'b', 'c' and print it.\n",
        "\n",
        "my_set = {'a', 'b', 'c'}\n",
        "print(my_set)"
      ],
      "execution_count": 16,
      "outputs": [
        {
          "output_type": "stream",
          "name": "stdout",
          "text": [
            "{'b', 'a', 'c'}\n"
          ]
        }
      ]
    },
    {
      "cell_type": "code",
      "metadata": {
        "colab": {
          "base_uri": "https://localhost:8080/",
          "height": 0
        },
        "id": "0aa21962",
        "outputId": "5aa27613-5b21-4365-e07b-5bf728ad612b"
      },
      "source": [
        "# Write a code to clear all elements from the set {1, 2, 3, 4, 5}.\n",
        "\n",
        "my_set = {1, 2, 3, 4, 5}\n",
        "my_set.clear()\n",
        "print(my_set)"
      ],
      "execution_count": 17,
      "outputs": [
        {
          "output_type": "stream",
          "name": "stdout",
          "text": [
            "set()\n"
          ]
        }
      ]
    },
    {
      "cell_type": "code",
      "metadata": {
        "colab": {
          "base_uri": "https://localhost:8080/",
          "height": 0
        },
        "id": "dcdbcaf9",
        "outputId": "27735ac9-46e2-4f21-ed21-146ca8ce3645"
      },
      "source": [
        "# Write a code to remove the element 4 from the set {1, 2, 3, 4}.\n",
        "\n",
        "my_set = {1, 2, 3, 4}\n",
        "my_set.remove(4)\n",
        "print(my_set)"
      ],
      "execution_count": 18,
      "outputs": [
        {
          "output_type": "stream",
          "name": "stdout",
          "text": [
            "{1, 2, 3}\n"
          ]
        }
      ]
    },
    {
      "cell_type": "code",
      "metadata": {
        "colab": {
          "base_uri": "https://localhost:8080/",
          "height": 0
        },
        "id": "89e462a4",
        "outputId": "474b2236-6633-4c7f-abfc-db39606ddc23"
      },
      "source": [
        "# Write a code to find the union of two sets {1, 2, 3} and {3, 4, 5}.\n",
        "\n",
        "set1 = {1, 2, 3}\n",
        "set2 = {3, 4, 5}\n",
        "union_set = set1 | set2\n",
        "print(union_set)"
      ],
      "execution_count": 19,
      "outputs": [
        {
          "output_type": "stream",
          "name": "stdout",
          "text": [
            "{1, 2, 3, 4, 5}\n"
          ]
        }
      ]
    },
    {
      "cell_type": "code",
      "metadata": {
        "colab": {
          "base_uri": "https://localhost:8080/",
          "height": 0
        },
        "id": "1efb704f",
        "outputId": "678ff4cc-2724-4b5f-afa0-99729d5e6da0"
      },
      "source": [
        "# Write a code to find the intersection of two sets {1, 2, 3} and {2, 3, 4}.\n",
        "\n",
        "set1 = {1, 2, 3}\n",
        "set2 = {2, 3, 4}\n",
        "intersection_set = set1 & set2\n",
        "print(intersection_set)"
      ],
      "execution_count": 20,
      "outputs": [
        {
          "output_type": "stream",
          "name": "stdout",
          "text": [
            "{2, 3}\n"
          ]
        }
      ]
    },
    {
      "cell_type": "code",
      "metadata": {
        "colab": {
          "base_uri": "https://localhost:8080/",
          "height": 0
        },
        "id": "fd253f6a",
        "outputId": "b0183766-24e8-446b-bc60-86bb5f9f23a3"
      },
      "source": [
        "# Write a code to create a dictionary with the keys \"name\", \"age\", and \"city\", and print it.\n",
        "\n",
        "my_dict = {\n",
        "    \"name\": \"Abhimanyu\",\n",
        "    \"age\": 21,\n",
        "    \"city\": \"india\"\n",
        "}\n",
        "print(my_dict)"
      ],
      "execution_count": 22,
      "outputs": [
        {
          "output_type": "stream",
          "name": "stdout",
          "text": [
            "{'name': 'Abhimanyu', 'age': 21, 'city': 'india'}\n"
          ]
        }
      ]
    },
    {
      "cell_type": "code",
      "metadata": {
        "colab": {
          "base_uri": "https://localhost:8080/",
          "height": 0
        },
        "id": "b3db5622",
        "outputId": "200795c0-f50d-4bb7-d527-89120b40c682"
      },
      "source": [
        "# Write a code to add a new key-value pair \"country\": \"USA\" to the dictionary {'name': 'John', 'age': 25}.\n",
        "\n",
        "my_dict = {'name': 'John', 'age': 25}\n",
        "my_dict[\"country\"] = \"USA\"\n",
        "print(my_dict)"
      ],
      "execution_count": 23,
      "outputs": [
        {
          "output_type": "stream",
          "name": "stdout",
          "text": [
            "{'name': 'John', 'age': 25, 'country': 'USA'}\n"
          ]
        }
      ]
    },
    {
      "cell_type": "code",
      "metadata": {
        "colab": {
          "base_uri": "https://localhost:8080/",
          "height": 0
        },
        "id": "c66fa42b",
        "outputId": "1dee8091-b304-4282-871e-f75d96e86978"
      },
      "source": [
        "# Write a code to access the value associated with the key \"name\" in the dictionary {'name': 'Alice', 'age': 30}.\n",
        "\n",
        "my_dict = {'name': 'Alice', 'age': 30}\n",
        "name_value = my_dict[\"name\"]\n",
        "print(name_value)"
      ],
      "execution_count": 24,
      "outputs": [
        {
          "output_type": "stream",
          "name": "stdout",
          "text": [
            "Alice\n"
          ]
        }
      ]
    },
    {
      "cell_type": "code",
      "metadata": {
        "colab": {
          "base_uri": "https://localhost:8080/",
          "height": 0
        },
        "id": "1612485d",
        "outputId": "f0022fd9-83d3-4a38-8a29-a59efb09e3c6"
      },
      "source": [
        "# Write a code to remove the key \"age\" from the dictionary {'name': 'Bob', 'age': 22, 'city': 'New York'}.\n",
        "\n",
        "my_dict = {'name': 'Bob', 'age': 22, 'city': 'New York'}\n",
        "del my_dict[\"age\"]\n",
        "print(my_dict)"
      ],
      "execution_count": 25,
      "outputs": [
        {
          "output_type": "stream",
          "name": "stdout",
          "text": [
            "{'name': 'Bob', 'city': 'New York'}\n"
          ]
        }
      ]
    },
    {
      "cell_type": "code",
      "metadata": {
        "colab": {
          "base_uri": "https://localhost:8080/",
          "height": 0
        },
        "id": "c49efe05",
        "outputId": "34bfa8e0-a609-4610-949b-940eee0239b2"
      },
      "source": [
        "# Write a code to check if the key \"city\" exists in the dictionary {'name': 'Alice', 'city': 'Paris'}.\n",
        "\n",
        "my_dict = {'name': 'Alice', 'city': 'Paris'}\n",
        "key_exists = \"city\" in my_dict\n",
        "print(key_exists)"
      ],
      "execution_count": 26,
      "outputs": [
        {
          "output_type": "stream",
          "name": "stdout",
          "text": [
            "True\n"
          ]
        }
      ]
    },
    {
      "cell_type": "code",
      "metadata": {
        "colab": {
          "base_uri": "https://localhost:8080/",
          "height": 0
        },
        "id": "8c60a8be",
        "outputId": "ad03432e-ec20-4537-faf1-d2bf20be51ef"
      },
      "source": [
        "# Write a code to create a list, a tuple, and a dictionary, and print them all.\n",
        "\n",
        "# Create a list\n",
        "my_list = [1, 2, 3, 4, 5]\n",
        "\n",
        "# Create a tuple\n",
        "my_tuple = ('a', 'b', 'c')\n",
        "\n",
        "# Create a dictionary\n",
        "my_dict = {\n",
        "    \"name\": \"Alice\",\n",
        "    \"age\": 30,\n",
        "    \"city\": \"New York\"\n",
        "}\n",
        "\n",
        "# Print all of them\n",
        "print(\"My List:\", my_list)\n",
        "print(\"My Tuple:\", my_tuple)\n",
        "print(\"My Dictionary:\", my_dict)"
      ],
      "execution_count": 27,
      "outputs": [
        {
          "output_type": "stream",
          "name": "stdout",
          "text": [
            "My List: [1, 2, 3, 4, 5]\n",
            "My Tuple: ('a', 'b', 'c')\n",
            "My Dictionary: {'name': 'Alice', 'age': 30, 'city': 'New York'}\n"
          ]
        }
      ]
    },
    {
      "cell_type": "code",
      "metadata": {
        "colab": {
          "base_uri": "https://localhost:8080/",
          "height": 0
        },
        "id": "617cd217",
        "outputId": "4363e90f-1174-4c5a-843d-e9e7c53f089f"
      },
      "source": [
        "# Write a code to create a list of 5 random numbers between 1 and 100, sort it in ascending order, and print the result.(replaced)\n",
        "\n",
        "random_numbers = [random.randint(1, 100) for _ in range(5)]\n",
        "random_numbers.sort()\n",
        "\n",
        "print(random_numbers)"
      ],
      "execution_count": 30,
      "outputs": [
        {
          "output_type": "stream",
          "name": "stdout",
          "text": [
            "[53, 60, 67, 86, 99]\n"
          ]
        }
      ]
    },
    {
      "cell_type": "code",
      "metadata": {
        "colab": {
          "base_uri": "https://localhost:8080/",
          "height": 0
        },
        "id": "ca0a260c",
        "outputId": "ef8baec2-726d-4452-9ff7-796bb4aea30f"
      },
      "source": [
        "# Write a code to create a list with strings and print the element at the third index.\n",
        "\n",
        "my_string_list = [\"apple\", \"banana\", \"cherry\", \"date\", \"elderberry\"]\n",
        "third_element = my_string_list[3]\n",
        "print(third_element)"
      ],
      "execution_count": 31,
      "outputs": [
        {
          "output_type": "stream",
          "name": "stdout",
          "text": [
            "date\n"
          ]
        }
      ]
    },
    {
      "cell_type": "code",
      "metadata": {
        "colab": {
          "base_uri": "https://localhost:8080/",
          "height": 0
        },
        "id": "3e670894",
        "outputId": "32d7b789-d000-4f9d-b019-17785928df80"
      },
      "source": [
        "#  Write a code to combine two dictionaries into one and print the result.\n",
        "\n",
        "dict1 = {\"a\": 1, \"b\": 2}\n",
        "dict2 = {\"c\": 3, \"d\": 4}\n",
        "\n",
        "combined_dict = {**dict1, **dict2}\n",
        "\n",
        "print(combined_dict)"
      ],
      "execution_count": 32,
      "outputs": [
        {
          "output_type": "stream",
          "name": "stdout",
          "text": [
            "{'a': 1, 'b': 2, 'c': 3, 'd': 4}\n"
          ]
        }
      ]
    },
    {
      "cell_type": "code",
      "metadata": {
        "colab": {
          "base_uri": "https://localhost:8080/"
        },
        "id": "a77078ea",
        "outputId": "9edfeedf-b3b4-4bd8-b39c-90507f1a4439"
      },
      "source": [
        "# Write a code to convert a list of strings into a set\n",
        "\n",
        "my_list_of_strings = [\"apple\", \"banana\", \"apple\", \"orange\", \"banana\"]\n",
        "my_set_of_strings = set(my_list_of_strings)\n",
        "print(my_set_of_strings)"
      ],
      "execution_count": 33,
      "outputs": [
        {
          "output_type": "stream",
          "name": "stdout",
          "text": [
            "{'banana', 'orange', 'apple'}\n"
          ]
        }
      ]
    },
    {
      "cell_type": "code",
      "source": [],
      "metadata": {
        "id": "bLSAWyUF4VE2"
      },
      "execution_count": null,
      "outputs": []
    }
  ]
}